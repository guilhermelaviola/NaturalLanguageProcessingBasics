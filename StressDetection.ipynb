{
  "nbformat": 4,
  "nbformat_minor": 0,
  "metadata": {
    "colab": {
      "provenance": [],
      "authorship_tag": "ABX9TyOn7Qbffp0PUdnygZ+pAqUg",
      "include_colab_link": true
    },
    "kernelspec": {
      "name": "python3",
      "display_name": "Python 3"
    },
    "language_info": {
      "name": "python"
    }
  },
  "cells": [
    {
      "cell_type": "markdown",
      "metadata": {
        "id": "view-in-github",
        "colab_type": "text"
      },
      "source": [
        "<a href=\"https://colab.research.google.com/github/guilhermelaviola/NaturalLanguageProcessingBasics/blob/main/StressDetection.ipynb\" target=\"_parent\"><img src=\"https://colab.research.google.com/assets/colab-badge.svg\" alt=\"Open In Colab\"/></a>"
      ]
    },
    {
      "cell_type": "code",
      "execution_count": 5,
      "metadata": {
        "colab": {
          "base_uri": "https://localhost:8080/"
        },
        "id": "yvkO47zVkTid",
        "outputId": "b71ca769-d740-49cc-c73f-5418efc646a5"
      },
      "outputs": [
        {
          "output_type": "stream",
          "name": "stderr",
          "text": [
            "[nltk_data] Downloading package stopwords to /root/nltk_data...\n",
            "[nltk_data]   Unzipping corpora/stopwords.zip.\n"
          ]
        }
      ],
      "source": [
        "# Importing all the necessary libraries:\n",
        "import pandas as pd\n",
        "import numpy as np\n",
        "import nltk\n",
        "import re\n",
        "nltk.download('stopwords')\n",
        "stemmer = nltk.SnowballStemmer('english')\n",
        "from nltk.corpus import stopwords\n",
        "import string\n",
        "stopwords = set(stopwords.words(\"english\"))"
      ]
    },
    {
      "cell_type": "code",
      "source": [
        "# Importing the dataset:\n",
        "data = pd.read_csv('https://raw.githubusercontent.com/amankharwal/Website-data/master/stress.csv')\n",
        "print(data.head())"
      ],
      "metadata": {
        "colab": {
          "base_uri": "https://localhost:8080/"
        },
        "id": "HareEZHpkfV9",
        "outputId": "0ef28ee9-8849-40a6-f2ad-0e46bdd47a4e"
      },
      "execution_count": 2,
      "outputs": [
        {
          "output_type": "stream",
          "name": "stdout",
          "text": [
            "          subreddit post_id sentence_range  \\\n",
            "0              ptsd  8601tu       (15, 20)   \n",
            "1        assistance  8lbrx9         (0, 5)   \n",
            "2              ptsd  9ch1zh       (15, 20)   \n",
            "3     relationships  7rorpp        [5, 10]   \n",
            "4  survivorsofabuse  9p2gbc         [0, 5]   \n",
            "\n",
            "                                                text     id  label  \\\n",
            "0  He said he had not felt that way before, sugge...  33181      1   \n",
            "1  Hey there r/assistance, Not sure if this is th...   2606      0   \n",
            "2  My mom then hit me with the newspaper and it s...  38816      1   \n",
            "3  until i met my new boyfriend, he is amazing, h...    239      1   \n",
            "4  October is Domestic Violence Awareness Month a...   1421      1   \n",
            "\n",
            "   confidence  social_timestamp  social_karma  syntax_ari  ...  \\\n",
            "0         0.8        1521614353             5    1.806818  ...   \n",
            "1         1.0        1527009817             4    9.429737  ...   \n",
            "2         0.8        1535935605             2    7.769821  ...   \n",
            "3         0.6        1516429555             0    2.667798  ...   \n",
            "4         0.8        1539809005            24    7.554238  ...   \n",
            "\n",
            "   lex_dal_min_pleasantness  lex_dal_min_activation  lex_dal_min_imagery  \\\n",
            "0                     1.000                  1.1250                  1.0   \n",
            "1                     1.125                  1.0000                  1.0   \n",
            "2                     1.000                  1.1429                  1.0   \n",
            "3                     1.000                  1.1250                  1.0   \n",
            "4                     1.000                  1.1250                  1.0   \n",
            "\n",
            "   lex_dal_avg_activation  lex_dal_avg_imagery  lex_dal_avg_pleasantness  \\\n",
            "0                 1.77000              1.52211                   1.89556   \n",
            "1                 1.69586              1.62045                   1.88919   \n",
            "2                 1.83088              1.58108                   1.85828   \n",
            "3                 1.75356              1.52114                   1.98848   \n",
            "4                 1.77644              1.64872                   1.81456   \n",
            "\n",
            "   social_upvote_ratio  social_num_comments  syntax_fk_grade  sentiment  \n",
            "0                 0.86                    1         3.253573  -0.002742  \n",
            "1                 0.65                    2         8.828316   0.292857  \n",
            "2                 0.67                    0         7.841667   0.011894  \n",
            "3                 0.50                    5         4.104027   0.141671  \n",
            "4                 1.00                    1         7.910952  -0.204167  \n",
            "\n",
            "[5 rows x 116 columns]\n"
          ]
        }
      ]
    },
    {
      "cell_type": "code",
      "source": [
        "# Checking if there are any null values in the dataset:\n",
        "print(data.isnull().sum())"
      ],
      "metadata": {
        "colab": {
          "base_uri": "https://localhost:8080/"
        },
        "id": "h6tSLSsik05B",
        "outputId": "5c60b59d-8a67-49e6-fbf6-0fd648e80f6a"
      },
      "execution_count": 4,
      "outputs": [
        {
          "output_type": "stream",
          "name": "stdout",
          "text": [
            "subreddit                   0\n",
            "post_id                     0\n",
            "sentence_range              0\n",
            "text                        0\n",
            "id                          0\n",
            "                           ..\n",
            "lex_dal_avg_pleasantness    0\n",
            "social_upvote_ratio         0\n",
            "social_num_comments         0\n",
            "syntax_fk_grade             0\n",
            "sentiment                   0\n",
            "Length: 116, dtype: int64\n"
          ]
        }
      ]
    },
    {
      "cell_type": "code",
      "source": [
        "# Preparing the text column of the dataset to clean the text column with\n",
        "# stopwords, links, special symbols and language errors:\n",
        "def clean(text):"
      ],
      "metadata": {
        "id": "aQwJhw4GlDYS"
      },
      "execution_count": null,
      "outputs": []
    }
  ]
}